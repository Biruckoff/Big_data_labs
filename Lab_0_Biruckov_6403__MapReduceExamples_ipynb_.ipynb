{
  "nbformat": 4,
  "nbformat_minor": 0,
  "metadata": {
    "colab": {
      "provenance": [],
      "collapsed_sections": [
        "QtTFyqke3KGe",
        "BNhh5763w5Vn",
        "kNKYIeerx0nY",
        "ruZREYdi2o4O",
        "R7az-6DA6qr2"
      ]
    },
    "kernelspec": {
      "name": "python3",
      "display_name": "Python 3"
    }
  },
  "cells": [
    {
      "cell_type": "markdown",
      "metadata": {
        "id": "82OvPKEiEqjc"
      },
      "source": [
        "# Введение в MapReduce модель на Python\n"
      ]
    },
    {
      "cell_type": "code",
      "metadata": {
        "id": "JQ2cvXLjICmI"
      },
      "source": [
        "from typing import NamedTuple # requires python 3.6+\n",
        "from typing import Iterator"
      ],
      "execution_count": null,
      "outputs": []
    },
    {
      "cell_type": "code",
      "metadata": {
        "id": "yjPHumVwEyEg"
      },
      "source": [
        "def MAP(_, row:NamedTuple):\n",
        "  if (row.gender == 'female'):\n",
        "    yield (row.age, row)\n",
        "\n",
        "def REDUCE(age:str, rows:Iterator[NamedTuple]):\n",
        "  sum = 0\n",
        "  count = 0\n",
        "  for row in rows:\n",
        "    sum += row.social_contacts\n",
        "    count += 1\n",
        "  if (count > 0):\n",
        "    yield (age, sum/count)\n",
        "  else:\n",
        "    yield (age, 0)"
      ],
      "execution_count": null,
      "outputs": []
    },
    {
      "cell_type": "markdown",
      "metadata": {
        "id": "vBKMgpG_ilaZ"
      },
      "source": [
        "Модель элемента данных"
      ]
    },
    {
      "cell_type": "code",
      "metadata": {
        "id": "Rv-XIjhTJPx3"
      },
      "source": [
        "class User(NamedTuple):\n",
        "  id: int\n",
        "  age: str\n",
        "  social_contacts: int\n",
        "  gender: str"
      ],
      "execution_count": null,
      "outputs": []
    },
    {
      "cell_type": "code",
      "metadata": {
        "id": "5KV0Ze2vQgu5"
      },
      "source": [
        "input_collection = [\n",
        "    User(id=0, age=55, gender='male', social_contacts=20),\n",
        "    User(id=1, age=25, gender='female', social_contacts=240),\n",
        "    User(id=2, age=25, gender='female', social_contacts=500),\n",
        "    User(id=3, age=33, gender='female', social_contacts=800)\n",
        "]"
      ],
      "execution_count": null,
      "outputs": []
    },
    {
      "cell_type": "markdown",
      "metadata": {
        "id": "YFeqzyZxZIFZ"
      },
      "source": [
        "Функция RECORDREADER моделирует чтение элементов с диска или по сети."
      ]
    },
    {
      "cell_type": "code",
      "metadata": {
        "id": "S5HR4E_GQoMJ"
      },
      "source": [
        "def RECORDREADER():\n",
        "  return [(u.id, u) for u in input_collection]"
      ],
      "execution_count": null,
      "outputs": []
    },
    {
      "cell_type": "code",
      "metadata": {
        "id": "NeEoWla-ROUy",
        "colab": {
          "base_uri": "https://localhost:8080/"
        },
        "outputId": "aa79d71b-f152-4e69-a0f4-f72f715eaf1a"
      },
      "source": [
        "list(RECORDREADER())"
      ],
      "execution_count": null,
      "outputs": [
        {
          "output_type": "execute_result",
          "data": {
            "text/plain": [
              "[(0, User(id=0, age=55, social_contacts=20, gender='male')),\n",
              " (1, User(id=1, age=25, social_contacts=240, gender='female')),\n",
              " (2, User(id=2, age=25, social_contacts=500, gender='female')),\n",
              " (3, User(id=3, age=33, social_contacts=800, gender='female'))]"
            ]
          },
          "metadata": {},
          "execution_count": 6
        }
      ]
    },
    {
      "cell_type": "code",
      "metadata": {
        "id": "YB8orgPSZs8M"
      },
      "source": [
        "def flatten(nested_iterable):\n",
        "  for iterable in nested_iterable:\n",
        "    for element in iterable:\n",
        "      yield element"
      ],
      "execution_count": null,
      "outputs": []
    },
    {
      "cell_type": "code",
      "metadata": {
        "id": "74oyvDLaRmd5",
        "colab": {
          "base_uri": "https://localhost:8080/"
        },
        "outputId": "c3f56f66-b510-4123-bc42-c9b808ee48e0"
      },
      "source": [
        "map_output = flatten(map(lambda x: MAP(*x), RECORDREADER()))\n",
        "map_output = list(map_output) # materialize\n",
        "map_output"
      ],
      "execution_count": null,
      "outputs": [
        {
          "output_type": "execute_result",
          "data": {
            "text/plain": [
              "[(25, User(id=1, age=25, social_contacts=240, gender='female')),\n",
              " (25, User(id=2, age=25, social_contacts=500, gender='female')),\n",
              " (33, User(id=3, age=33, social_contacts=800, gender='female'))]"
            ]
          },
          "metadata": {},
          "execution_count": 8
        }
      ]
    },
    {
      "cell_type": "code",
      "metadata": {
        "id": "8ncYDJ3-VzDn"
      },
      "source": [
        "def groupbykey(iterable):\n",
        "  t = {}\n",
        "  for (k2, v2) in iterable:\n",
        "    t[k2] = t.get(k2, []) + [v2]\n",
        "  return t.items()"
      ],
      "execution_count": null,
      "outputs": []
    },
    {
      "cell_type": "code",
      "metadata": {
        "id": "cKzY_6COWOA2",
        "colab": {
          "base_uri": "https://localhost:8080/"
        },
        "outputId": "e36ca27a-a8c9-4ca8-e70a-4b1d66638fef"
      },
      "source": [
        "shuffle_output = groupbykey(map_output)\n",
        "shuffle_output = list(shuffle_output)\n",
        "shuffle_output"
      ],
      "execution_count": null,
      "outputs": [
        {
          "output_type": "execute_result",
          "data": {
            "text/plain": [
              "[(25,\n",
              "  [User(id=1, age=25, social_contacts=240, gender='female'),\n",
              "   User(id=2, age=25, social_contacts=500, gender='female')]),\n",
              " (33, [User(id=3, age=33, social_contacts=800, gender='female')])]"
            ]
          },
          "metadata": {},
          "execution_count": 10
        }
      ]
    },
    {
      "cell_type": "code",
      "metadata": {
        "id": "NlA7lkDDYL0t",
        "colab": {
          "base_uri": "https://localhost:8080/"
        },
        "outputId": "52e6eda7-209c-4afd-a77d-b865de3f40c6"
      },
      "source": [
        "reduce_output = flatten(map(lambda x: REDUCE(*x), shuffle_output))\n",
        "reduce_output = list(reduce_output)\n",
        "reduce_output"
      ],
      "execution_count": null,
      "outputs": [
        {
          "output_type": "execute_result",
          "data": {
            "text/plain": [
              "[(25, 370.0), (33, 800.0)]"
            ]
          },
          "metadata": {},
          "execution_count": 11
        }
      ]
    },
    {
      "cell_type": "markdown",
      "metadata": {
        "id": "xf6qhHEtd6bI"
      },
      "source": [
        "Все действия одним конвейером!"
      ]
    },
    {
      "cell_type": "code",
      "metadata": {
        "id": "dZaQGYxCdpw5",
        "colab": {
          "base_uri": "https://localhost:8080/"
        },
        "outputId": "4408bdf7-c09c-4ff4-b089-17fa8515af16"
      },
      "source": [
        "list(flatten(map(lambda x: REDUCE(*x), groupbykey(flatten(map(lambda x: MAP(*x), RECORDREADER()))))))"
      ],
      "execution_count": null,
      "outputs": [
        {
          "output_type": "execute_result",
          "data": {
            "text/plain": [
              "[(25, 370.0), (33, 800.0)]"
            ]
          },
          "metadata": {},
          "execution_count": 12
        }
      ]
    },
    {
      "cell_type": "markdown",
      "metadata": {
        "id": "Vq3EWRIpwSiJ"
      },
      "source": [
        "# **MapReduce**\n",
        "Выделим общую для всех пользователей часть системы в отдельную функцию высшего порядка. Это наиболее простая модель MapReduce, без учёта распределённого хранения данных.\n",
        "\n",
        "Пользователь для решения своей задачи реализует RECORDREADER, MAP, REDUCE."
      ]
    },
    {
      "cell_type": "code",
      "metadata": {
        "id": "V1PZeQMwwVjc"
      },
      "source": [
        "def flatten(nested_iterable):\n",
        "  for iterable in nested_iterable:\n",
        "    for element in iterable:\n",
        "      yield element\n",
        "\n",
        "def groupbykey(iterable):\n",
        "  t = {}\n",
        "  for (k2, v2) in iterable:\n",
        "    t[k2] = t.get(k2, []) + [v2]\n",
        "  return t.items()\n",
        "\n",
        "def MapReduce(RECORDREADER, MAP, REDUCE):\n",
        "  return flatten(map(lambda x: REDUCE(*x), groupbykey(flatten(map(lambda x: MAP(*x), RECORDREADER())))))"
      ],
      "execution_count": null,
      "outputs": []
    },
    {
      "cell_type": "markdown",
      "metadata": {
        "id": "iFIVrimep678"
      },
      "source": [
        "## Спецификация MapReduce\n",
        "\n",
        "\n",
        "\n",
        "```\n",
        "f (k1, v1) -> (k2,v2)*\n",
        "g (k2, v2*) -> (k3,v3)*\n",
        "\n",
        "mapreduce ((k1,v1)*) -> (k3,v3)*\n",
        "groupby ((k2,v2)*) -> (k2,v2*)*\n",
        "flatten (e2**) -> e2*\n",
        "\n",
        "mapreduce .map(f).flatten.groupby(k2).map(g).flatten\n",
        "```\n",
        "\n",
        "\n"
      ]
    },
    {
      "cell_type": "markdown",
      "metadata": {
        "id": "QtTFyqke3KGe"
      },
      "source": [
        "# Примеры"
      ]
    },
    {
      "cell_type": "markdown",
      "metadata": {
        "id": "BNhh5763w5Vn"
      },
      "source": [
        "## SQL"
      ]
    },
    {
      "cell_type": "code",
      "metadata": {
        "id": "QkyurnvGxBGk",
        "colab": {
          "base_uri": "https://localhost:8080/"
        },
        "outputId": "c044fec1-1f4e-4dea-9970-2e6aaafffe22"
      },
      "source": [
        "from typing import NamedTuple # requires python 3.6+\n",
        "from typing import Iterator\n",
        "\n",
        "class User(NamedTuple):\n",
        "  id: int\n",
        "  age: str\n",
        "  social_contacts: int\n",
        "  gender: str\n",
        "\n",
        "input_collection = [\n",
        "    User(id=0, age=55, gender='male', social_contacts=20),\n",
        "    User(id=1, age=25, gender='female', social_contacts=240),\n",
        "    User(id=2, age=25, gender='female', social_contacts=500),\n",
        "    User(id=3, age=33, gender='female', social_contacts=800)\n",
        "]\n",
        "\n",
        "def MAP(_, row:NamedTuple):\n",
        "  if (row.gender == 'female'):\n",
        "    yield (row.age, row)\n",
        "\n",
        "def REDUCE(age:str, rows:Iterator[NamedTuple]):\n",
        "  sum = 0\n",
        "  count = 0\n",
        "  for row in rows:\n",
        "    sum += row.social_contacts\n",
        "    count += 1\n",
        "  if (count > 0):\n",
        "    yield (age, sum/count)\n",
        "  else:\n",
        "    yield (age, 0)\n",
        "\n",
        "def RECORDREADER():\n",
        "  return [(u.id, u) for u in input_collection]\n",
        "\n",
        "output = MapReduce(RECORDREADER, MAP, REDUCE)\n",
        "output = list(output)\n",
        "output"
      ],
      "execution_count": null,
      "outputs": [
        {
          "output_type": "execute_result",
          "data": {
            "text/plain": [
              "[(25, 370.0), (33, 800.0)]"
            ]
          },
          "metadata": {},
          "execution_count": 21
        }
      ]
    },
    {
      "cell_type": "markdown",
      "metadata": {
        "id": "kNKYIeerx0nY"
      },
      "source": [
        "## Matrix-Vector multiplication"
      ]
    },
    {
      "cell_type": "code",
      "metadata": {
        "id": "rwcntRcCyi1V",
        "colab": {
          "base_uri": "https://localhost:8080/"
        },
        "outputId": "ab504cdd-a0f0-45d6-91fe-85f05754cd16"
      },
      "source": [
        "from typing import Iterator\n",
        "import numpy as np\n",
        "\n",
        "mat = np.ones((5,4))\n",
        "vec = np.random.rand(4) # in-memory vector in all map tasks\n",
        "\n",
        "def MAP(coordinates:(int, int), value:int):\n",
        "  i, j = coordinates\n",
        "  yield (i, value*vec[j])\n",
        "\n",
        "def REDUCE(i:int, products:Iterator[NamedTuple]):\n",
        "  sum = 0\n",
        "  for p in products:\n",
        "    sum += p\n",
        "  yield (i, sum)\n",
        "\n",
        "def RECORDREADER():\n",
        "  for i in range(mat.shape[0]):\n",
        "    for j in range(mat.shape[1]):\n",
        "      yield ((i, j), mat[i,j])\n",
        "\n",
        "output = MapReduce(RECORDREADER, MAP, REDUCE)\n",
        "output = list(output)\n",
        "output"
      ],
      "execution_count": null,
      "outputs": [
        {
          "output_type": "execute_result",
          "data": {
            "text/plain": [
              "[(0, 1.9963092439264216),\n",
              " (1, 1.9963092439264216),\n",
              " (2, 1.9963092439264216),\n",
              " (3, 1.9963092439264216),\n",
              " (4, 1.9963092439264216)]"
            ]
          },
          "metadata": {},
          "execution_count": 22
        }
      ]
    },
    {
      "cell_type": "markdown",
      "metadata": {
        "id": "ruZREYdi2o4O"
      },
      "source": [
        "## Inverted index"
      ]
    },
    {
      "cell_type": "code",
      "metadata": {
        "id": "vt9H9Alf3TYv",
        "colab": {
          "base_uri": "https://localhost:8080/"
        },
        "outputId": "346b03cb-1f11-498f-a2d3-9e94d29502b7"
      },
      "source": [
        "from typing import Iterator\n",
        "\n",
        "d1 = \"it is what it is\"\n",
        "d2 = \"what is it\"\n",
        "d3 = \"it is a banana\"\n",
        "documents = [d1, d2, d3]\n",
        "\n",
        "def RECORDREADER():\n",
        "  for (docid, document) in enumerate(documents):\n",
        "    yield (\"{}\".format(docid), document)\n",
        "\n",
        "def MAP(docId:str, body:str):\n",
        "  for word in set(body.split(' ')):\n",
        "    yield (word, docId)\n",
        "\n",
        "def REDUCE(word:str, docIds:Iterator[str]):\n",
        "  yield (word, sorted(docIds))\n",
        "\n",
        "output = MapReduce(RECORDREADER, MAP, REDUCE)\n",
        "output = list(output)\n",
        "output"
      ],
      "execution_count": null,
      "outputs": [
        {
          "output_type": "execute_result",
          "data": {
            "text/plain": [
              "[('is', ['0', '1', '2']),\n",
              " ('what', ['0', '1']),\n",
              " ('it', ['0', '1', '2']),\n",
              " ('a', ['2']),\n",
              " ('banana', ['2'])]"
            ]
          },
          "metadata": {},
          "execution_count": 23
        }
      ]
    },
    {
      "cell_type": "markdown",
      "metadata": {
        "id": "R7az-6DA6qr2"
      },
      "source": [
        "## WordCount"
      ]
    },
    {
      "cell_type": "code",
      "metadata": {
        "id": "dN-nbtgG6uYG",
        "colab": {
          "base_uri": "https://localhost:8080/"
        },
        "outputId": "6b0ae0c2-6c6f-43f4-dc58-c5c5a8bb771a"
      },
      "source": [
        "from typing import Iterator\n",
        "\n",
        "d1 = \"\"\"\n",
        "it is what it is\n",
        "it is what it is\n",
        "it is what it is\"\"\"\n",
        "d2 = \"\"\"\n",
        "what is it\n",
        "what is it\"\"\"\n",
        "d3 = \"\"\"\n",
        "it is a banana\"\"\"\n",
        "documents = [d1, d2, d3]\n",
        "\n",
        "def RECORDREADER():\n",
        "  for (docid, document) in enumerate(documents):\n",
        "    for (lineid, line) in enumerate(document.split('\\n')):\n",
        "      yield (\"{}:{}\".format(docid,lineid), line)\n",
        "\n",
        "def MAP(docId:str, line:str):\n",
        "  for word in line.split(\" \"):\n",
        "    yield (word, 1)\n",
        "\n",
        "def REDUCE(word:str, counts:Iterator[int]):\n",
        "  sum = 0\n",
        "  for c in counts:\n",
        "    sum += c\n",
        "  yield (word, sum)\n",
        "\n",
        "output = MapReduce(RECORDREADER, MAP, REDUCE)\n",
        "output = list(output)\n",
        "output"
      ],
      "execution_count": null,
      "outputs": [
        {
          "output_type": "execute_result",
          "data": {
            "text/plain": [
              "[('', 3), ('it', 9), ('is', 9), ('what', 5), ('a', 1), ('banana', 1)]"
            ]
          },
          "metadata": {},
          "execution_count": 24
        }
      ]
    },
    {
      "cell_type": "markdown",
      "metadata": {
        "id": "h-jRAcYCAkkk"
      },
      "source": [
        "# MapReduce Distributed\n",
        "\n",
        "Добавляется в модель фабрика RECORDREARER-ов --- INPUTFORMAT, функция распределения промежуточных результатов по партициям PARTITIONER, и функция COMBINER для частичной аггрегации промежуточных результатов до распределения по новым партициям."
      ]
    },
    {
      "cell_type": "code",
      "metadata": {
        "id": "nw-b-xJsApgW"
      },
      "source": [
        "def flatten(nested_iterable):\n",
        "  for iterable in nested_iterable:\n",
        "    for element in iterable:\n",
        "      yield element\n",
        "\n",
        "def groupbykey(iterable):\n",
        "  t = {}\n",
        "  for (k2, v2) in iterable:\n",
        "    t[k2] = t.get(k2, []) + [v2]\n",
        "  return t.items()\n",
        "\n",
        "def groupbykey_distributed(map_partitions, PARTITIONER):\n",
        "  global reducers\n",
        "  partitions = [dict() for _ in range(reducers)]\n",
        "  for map_partition in map_partitions:\n",
        "    for (k2, v2) in map_partition:\n",
        "      p = partitions[PARTITIONER(k2)]\n",
        "      p[k2] = p.get(k2, []) + [v2]\n",
        "  return [(partition_id, sorted(partition.items(), key=lambda x: x[0])) for (partition_id, partition) in enumerate(partitions)]\n",
        "\n",
        "def PARTITIONER(obj):\n",
        "  global reducers\n",
        "  return hash(obj) % reducers\n",
        "\n",
        "def MapReduceDistributed(INPUTFORMAT, MAP, REDUCE, PARTITIONER=PARTITIONER, COMBINER=None):\n",
        "  map_partitions = map(lambda record_reader: flatten(map(lambda k1v1: MAP(*k1v1), record_reader)), INPUTFORMAT())\n",
        "  if COMBINER != None:\n",
        "    map_partitions = map(lambda map_partition: flatten(map(lambda k2v2: COMBINER(*k2v2), groupbykey(map_partition))), map_partitions)\n",
        "  reduce_partitions = groupbykey_distributed(map_partitions, PARTITIONER) # shuffle\n",
        "  reduce_outputs = map(lambda reduce_partition: (reduce_partition[0], flatten(map(lambda reduce_input_group: REDUCE(*reduce_input_group), reduce_partition[1]))), reduce_partitions)\n",
        "\n",
        "  print(\"{} key-value pairs were sent over a network.\".format(sum([len(vs) for (k,vs) in flatten([partition for (partition_id, partition) in reduce_partitions])])))\n",
        "  return reduce_outputs"
      ],
      "execution_count": null,
      "outputs": []
    },
    {
      "cell_type": "markdown",
      "metadata": {
        "id": "kxirlf3XqZxY"
      },
      "source": [
        "## Спецификация MapReduce Distributed\n",
        "\n",
        "\n",
        "```\n",
        "f (k1, v1) -> (k2,v2)*\n",
        "g (k2, v2*) -> (k3,v3)*\n",
        "\n",
        "e1 (k1, v1)\n",
        "e2 (k2, v2)\n",
        "partition1 (k2, v2)*\n",
        "partition2 (k2, v2*)*\n",
        "\n",
        "flatmap (e1->e2*, e1*) -> partition1*\n",
        "groupby (partition1*) -> partition2*\n",
        "\n",
        "mapreduce ((k1,v1)*) -> (k3,v3)*\n",
        "mapreduce .flatmap(f).groupby(k2).flatmap(g)\n",
        "```\n",
        "\n"
      ]
    },
    {
      "cell_type": "markdown",
      "metadata": {
        "id": "CWYw_CpbbY3C"
      },
      "source": [
        "## WordCount"
      ]
    },
    {
      "cell_type": "code",
      "metadata": {
        "id": "uR_zfGFkMZlp",
        "colab": {
          "base_uri": "https://localhost:8080/"
        },
        "outputId": "755c773a-bcdd-4cc1-8a52-ca35a4dd4aaf"
      },
      "source": [
        "from typing import Iterator\n",
        "import numpy as np\n",
        "\n",
        "d1 = \"\"\"\n",
        "it is what it is\n",
        "it is what it is\n",
        "it is what it is\"\"\"\n",
        "d2 = \"\"\"\n",
        "what is it\n",
        "what is it\"\"\"\n",
        "d3 = \"\"\"\n",
        "it is a banana\"\"\"\n",
        "documents = [d1, d2, d3, d1, d2, d3]\n",
        "\n",
        "maps = 3\n",
        "reducers = 2\n",
        "\n",
        "def INPUTFORMAT():\n",
        "  global maps\n",
        "\n",
        "  def RECORDREADER(split):\n",
        "    for (docid, document) in enumerate(split):\n",
        "      for (lineid, line) in enumerate(document.split('\\n')):\n",
        "        yield (\"{}:{}\".format(docid,lineid), line)\n",
        "\n",
        "  split_size =  int(np.ceil(len(documents)/maps))\n",
        "  for i in range(0, len(documents), split_size):\n",
        "    yield RECORDREADER(documents[i:i+split_size])\n",
        "\n",
        "def MAP(docId:str, line:str):\n",
        "  for word in line.split(\" \"):\n",
        "    yield (word, 1)\n",
        "\n",
        "def REDUCE(word:str, counts:Iterator[int]):\n",
        "  sum = 0\n",
        "  for c in counts:\n",
        "    sum += c\n",
        "  yield (word, sum)\n",
        "\n",
        "# try to set COMBINER=REDUCER and look at the number of values sent over the network\n",
        "partitioned_output = MapReduceDistributed(INPUTFORMAT, MAP, REDUCE, COMBINER=None)\n",
        "partitioned_output = [(partition_id, list(partition)) for (partition_id, partition) in partitioned_output]\n",
        "partitioned_output"
      ],
      "execution_count": null,
      "outputs": [
        {
          "output_type": "stream",
          "name": "stdout",
          "text": [
            "56 key-value pairs were sent over a network.\n"
          ]
        },
        {
          "output_type": "execute_result",
          "data": {
            "text/plain": [
              "[(0, [('', 6), ('a', 2), ('is', 18)]),\n",
              " (1, [('banana', 2), ('it', 18), ('what', 10)])]"
            ]
          },
          "metadata": {},
          "execution_count": 15
        }
      ]
    },
    {
      "cell_type": "markdown",
      "metadata": {
        "id": "gCJGx8IQ87xS"
      },
      "source": [
        "## TeraSort"
      ]
    },
    {
      "cell_type": "code",
      "metadata": {
        "id": "P2v8v1v_8_YR",
        "colab": {
          "base_uri": "https://localhost:8080/"
        },
        "outputId": "21ca0a48-709b-4f83-dd88-9e0fe7a2060c"
      },
      "source": [
        "import numpy as np\n",
        "\n",
        "input_values = np.random.rand(30)\n",
        "maps = 3\n",
        "reducers = 2\n",
        "min_value = 0.0\n",
        "max_value = 1.0\n",
        "\n",
        "def INPUTFORMAT():\n",
        "  global maps\n",
        "\n",
        "  def RECORDREADER(split):\n",
        "    for value in split:\n",
        "        yield (value, None)\n",
        "\n",
        "  split_size =  int(np.ceil(len(input_values)/maps))\n",
        "  for i in range(0, len(input_values), split_size):\n",
        "    yield RECORDREADER(input_values[i:i+split_size])\n",
        "\n",
        "def MAP(value:int, _):\n",
        "  yield (value, None)\n",
        "\n",
        "def PARTITIONER(key):\n",
        "  global reducers\n",
        "  global max_value\n",
        "  global min_value\n",
        "  bucket_size = (max_value-min_value)/reducers\n",
        "  bucket_id = 0\n",
        "  while((key>(bucket_id+1)*bucket_size) and ((bucket_id+1)*bucket_size<max_value)):\n",
        "    bucket_id += 1\n",
        "  return bucket_id\n",
        "\n",
        "def REDUCE(value:int, _):\n",
        "  yield (None,value)\n",
        "\n",
        "partitioned_output = MapReduceDistributed(INPUTFORMAT, MAP, REDUCE, COMBINER=None, PARTITIONER=PARTITIONER)\n",
        "partitioned_output = [(partition_id, list(partition)) for (partition_id, partition) in partitioned_output]\n",
        "partitioned_output"
      ],
      "execution_count": null,
      "outputs": [
        {
          "output_type": "stream",
          "name": "stdout",
          "text": [
            "30 key-value pairs were sent over a network.\n"
          ]
        },
        {
          "output_type": "execute_result",
          "data": {
            "text/plain": [
              "[(0,\n",
              "  [(None, 0.030403747013289406),\n",
              "   (None, 0.07137715594990957),\n",
              "   (None, 0.12268959138645896),\n",
              "   (None, 0.20205849084851002),\n",
              "   (None, 0.21527155870720083),\n",
              "   (None, 0.2259445819330831),\n",
              "   (None, 0.23737185012498374),\n",
              "   (None, 0.25571291113625794),\n",
              "   (None, 0.2923689359713647),\n",
              "   (None, 0.327452525769068),\n",
              "   (None, 0.32868600350412847),\n",
              "   (None, 0.3613354382815217),\n",
              "   (None, 0.4060800536852024),\n",
              "   (None, 0.40881849399665693),\n",
              "   (None, 0.4339129908022107),\n",
              "   (None, 0.4572024835149796),\n",
              "   (None, 0.4722002000938914),\n",
              "   (None, 0.4738193979711083),\n",
              "   (None, 0.48527529237034717),\n",
              "   (None, 0.4876563060307342),\n",
              "   (None, 0.4944241216330024)]),\n",
              " (1,\n",
              "  [(None, 0.613592286123381),\n",
              "   (None, 0.6152963438159947),\n",
              "   (None, 0.6389357952605998),\n",
              "   (None, 0.647811577626427),\n",
              "   (None, 0.6948044419349376),\n",
              "   (None, 0.7283936124888797),\n",
              "   (None, 0.7484142431582969),\n",
              "   (None, 0.8009999394408991),\n",
              "   (None, 0.9782405179915273)])]"
            ]
          },
          "metadata": {},
          "execution_count": 16
        }
      ]
    },
    {
      "cell_type": "code",
      "metadata": {
        "id": "MQhoJaVZI93G"
      },
      "source": [],
      "execution_count": null,
      "outputs": []
    },
    {
      "cell_type": "markdown",
      "metadata": {
        "id": "Iy65YJTH99iT"
      },
      "source": [
        "# Упражнения\n",
        "Упражнения взяты из Rajaraman A., Ullman J. D. Mining of massive datasets. – Cambridge University Press, 2011.\n",
        "\n",
        "\n",
        "Для выполнения заданий переопределите функции RECORDREADER, MAP, REDUCE. Для модели распределённой системы может потребоваться переопределение функций PARTITION и COMBINER."
      ]
    },
    {
      "cell_type": "markdown",
      "metadata": {
        "id": "cfvAeZm3S8S8"
      },
      "source": [
        "### Максимальное значение ряда\n",
        "\n",
        "Разработайте MapReduce алгоритм, который находит максимальное число входного списка чисел."
      ]
    },
    {
      "cell_type": "code",
      "metadata": {
        "id": "3GRA1JR-Tkbg",
        "colab": {
          "base_uri": "https://localhost:8080/"
        },
        "outputId": "59f53215-f204-4c36-b5cc-31f662af286a"
      },
      "source": [
        "import numpy as np\n",
        "\n",
        "data = np.random.rand(30)\n",
        "print(\"Сгенерированные числа:\", data)\n",
        "\n",
        "def reader():\n",
        "    for num in data:\n",
        "        yield (None, num)\n",
        "\n",
        "def mapper(_, num):\n",
        "    yield (None, num)\n",
        "\n",
        "def reducer(_, nums):\n",
        "    yield (None, max(nums))\n",
        "\n",
        "result = list(MapReduce(reader, mapper, reducer))\n",
        "print('Max: ')\n",
        "print(result)"
      ],
      "execution_count": null,
      "outputs": [
        {
          "output_type": "stream",
          "name": "stdout",
          "text": [
            "Сгенерированные числа: [0.99226213 0.00706443 0.81454458 0.20519865 0.87625575 0.33782037\n",
            " 0.5875697  0.32709176 0.2549405  0.94311649 0.23457287 0.34080241\n",
            " 0.31594738 0.11651511 0.16645965 0.01225437 0.38049413 0.12770215\n",
            " 0.09887593 0.05756027 0.77981603 0.73354478 0.81181197 0.45030652\n",
            " 0.12081095 0.88993942 0.51182407 0.7372745  0.72713229 0.79606257]\n",
            "Max: \n",
            "[(None, 0.9922621349436724)]\n"
          ]
        }
      ]
    },
    {
      "cell_type": "markdown",
      "metadata": {
        "id": "k86bXnqZTk-U"
      },
      "source": [
        "### Арифметическое среднее\n",
        "\n",
        "Разработайте MapReduce алгоритм, который находит арифметическое среднее.\n",
        "\n",
        "$$\\overline{X} = \\frac{1}{n}\\sum_{i=0}^{n} x_i$$\n"
      ]
    },
    {
      "cell_type": "code",
      "metadata": {
        "id": "MPoY5pkfUNZf",
        "colab": {
          "base_uri": "https://localhost:8080/"
        },
        "outputId": "753d4e5b-deb5-451e-fddf-4536fa5c71e7"
      },
      "source": [
        "import numpy as np\n",
        "\n",
        "data = np.random.rand(30)\n",
        "print(\"Сгенерированные числа:\", data)\n",
        "\n",
        "def reader():\n",
        "    for num in data:\n",
        "        yield (None, num)\n",
        "\n",
        "def mapper(_, num):\n",
        "    yield (None, num)\n",
        "\n",
        "def reducer(_, nums):\n",
        "    yield (None, sum(nums) / len(nums))\n",
        "\n",
        "result = list(MapReduce(reader, mapper, reducer))\n",
        "\n",
        "print(\"Среднее значение:\", result[0][1])\n"
      ],
      "execution_count": null,
      "outputs": [
        {
          "output_type": "stream",
          "name": "stdout",
          "text": [
            "Сгенерированные числа: [0.8095183  0.73927341 0.2865916  0.18196723 0.66207097 0.94574946\n",
            " 0.22336667 0.93637405 0.38208611 0.36606334 0.36514698 0.85518452\n",
            " 0.94308407 0.04603045 0.05794282 0.71964888 0.69161619 0.88632807\n",
            " 0.18287596 0.65288735 0.06513451 0.37223182 0.03050268 0.91276804\n",
            " 0.68338709 0.66612318 0.84021123 0.08396496 0.34613599 0.40823042]\n",
            "Среднее значение: 0.511416545643757\n"
          ]
        }
      ]
    },
    {
      "cell_type": "markdown",
      "metadata": {
        "id": "xanzszhsIlLe"
      },
      "source": [
        "### GroupByKey на основе сортировки\n",
        "\n",
        "Реализуйте groupByKey на основе сортировки, проверьте его работу на примерах"
      ]
    },
    {
      "cell_type": "code",
      "metadata": {
        "id": "hQPn3USsIkEC",
        "colab": {
          "base_uri": "https://localhost:8080/"
        },
        "outputId": "9e4efbaa-73ba-4aaf-bdd3-497f9700893e"
      },
      "source": [
        "\n",
        "def groupbykey_sorted(iterable):\n",
        "    sorted_iterable = sorted(iterable, key=lambda x: x[0])\n",
        "    grouped_data = []\n",
        "\n",
        "    current_key, current_group = sorted_iterable[0][0], []\n",
        "    for key, value in sorted_iterable:\n",
        "        if key == current_key:\n",
        "            current_group.append(value)\n",
        "        else:\n",
        "            grouped_data.append((current_key, current_group))\n",
        "            current_key, current_group = key, [value]\n",
        "\n",
        "    grouped_data.append((current_key, current_group))\n",
        "    return grouped_data\n",
        "\n",
        "input_data = [\n",
        "    (\"a\", 1), (\"b\", 2), (\"a\", 3), (\"b\", 4), (\"c\", 5), (\"a\", 6)\n",
        "]\n",
        "\n",
        "result = groupbykey_sorted(input_data)\n",
        "print(result)\n"
      ],
      "execution_count": null,
      "outputs": [
        {
          "output_type": "stream",
          "name": "stdout",
          "text": [
            "[('a', [1, 3, 6]), ('b', [2, 4]), ('c', [5])]\n"
          ]
        }
      ]
    },
    {
      "cell_type": "markdown",
      "metadata": {
        "id": "5SgEjCZyGnu6"
      },
      "source": [
        "### Drop duplicates (set construction, unique elements, distinct)\n",
        "\n",
        "Реализуйте распределённую операцию исключения дубликатов"
      ]
    },
    {
      "cell_type": "code",
      "metadata": {
        "id": "okjbyApjGhMt",
        "colab": {
          "base_uri": "https://localhost:8080/"
        },
        "outputId": "45fe4ed0-b8a2-4161-d833-43b1b0072142"
      },
      "source": [
        "from itertools import chain\n",
        "\n",
        "num_reducers = 2\n",
        "num_mappers = 2\n",
        "\n",
        "def input_format():\n",
        "    data = [\"apple\", \"banana\", \"apple\", \"orange\", \"banana\", \"grape\", \"grape\", \"apple\"]\n",
        "    chunk_size = max(1, len(data) // num_mappers)\n",
        "\n",
        "    def record_reader(chunk):\n",
        "        for item in chunk:\n",
        "            yield (item, None)\n",
        "\n",
        "    for i in range(0, len(data), chunk_size):\n",
        "        yield record_reader(data[i:i+chunk_size])\n",
        "\n",
        "def mapper(key, _):\n",
        "    yield (key, None)\n",
        "\n",
        "def partitioner(key):\n",
        "    return hash(key) % num_reducers\n",
        "\n",
        "def reducer(key, _):\n",
        "    yield (key, None)\n",
        "\n",
        "unique_values = MapReduceDistributed(input_format, mapper, reducer, partitioner)\n",
        "unique_values = [key for (_, partition) in unique_values for (key, _) in partition]\n",
        "\n",
        "print(\"Unique values:\", unique_values)\n"
      ],
      "execution_count": null,
      "outputs": [
        {
          "output_type": "stream",
          "name": "stdout",
          "text": [
            "8 key-value pairs were sent over a network.\n",
            "Unique values: ['apple', 'banana', 'grape', 'orange']\n"
          ]
        }
      ]
    },
    {
      "cell_type": "markdown",
      "metadata": {
        "id": "e7sRGoTXuJze"
      },
      "source": [
        "#Операторы реляционной алгебры\n",
        "### Selection (Выборка)\n",
        "\n",
        "**The Map Function**: Для  каждого кортежа $t \\in R$ вычисляется истинность предиката $C$. В случае истины создаётся пара ключ-значение $(t, t)$. В паре ключ и значение одинаковы, равны $t$.\n",
        "\n",
        "**The Reduce Function:** Роль функции Reduce выполняет функция идентичности, которая возвращает то же значение, что получила на вход.\n",
        "\n"
      ]
    },
    {
      "cell_type": "code",
      "metadata": {
        "id": "4nKIKe59uIfc",
        "colab": {
          "base_uri": "https://localhost:8080/"
        },
        "outputId": "704143fa-d419-474c-814d-eac1e6e7dd37"
      },
      "source": [
        "def predicate(t):\n",
        "    return (t[0] + t[1]) % 2 == 0\n",
        "\n",
        "def input_format():\n",
        "    dataset = [(0, 2), (6, 1), (5, 5)]\n",
        "    for t in dataset:\n",
        "        yield (t, None)\n",
        "\n",
        "def mapper(t, _):\n",
        "    if predicate(t):\n",
        "        yield (t, t)\n",
        "\n",
        "def reducer(_, values):\n",
        "    yield from values\n",
        "\n",
        "result = list(MapReduce(input_format, mapper, reducer))\n",
        "print(\"Filtered tuples:\", result)"
      ],
      "execution_count": null,
      "outputs": [
        {
          "output_type": "stream",
          "name": "stdout",
          "text": [
            "Filtered tuples: [(0, 2), (5, 5)]\n"
          ]
        }
      ]
    },
    {
      "cell_type": "markdown",
      "metadata": {
        "id": "w27Ca-_Ku85V"
      },
      "source": [
        "### Projection (Проекция)\n",
        "\n",
        "Проекция на множество атрибутов $S$.\n",
        "\n",
        "**The Map Function:** Для каждого кортежа $t \\in R$ создайте кортеж $t′$, исключая  из $t$ те значения, атрибуты которых не принадлежат  $S$. Верните пару $(t′, t′)$.\n",
        "\n",
        "**The Reduce Function:** Для каждого ключа $t′$, созданного любой Map задачей, вы получаете одну или несколько пар $(t′, t′)$. Reduce функция преобразует $(t′, [t′, t′, . . . , t′])$ в $(t′, t′)$, так, что для ключа $t′$ возвращается одна пара  $(t′, t′)$."
      ]
    },
    {
      "cell_type": "code",
      "metadata": {
        "id": "BEvuY4GqvhS6",
        "colab": {
          "base_uri": "https://localhost:8080/"
        },
        "outputId": "beab14a7-a0a1-49e4-a85f-cc0a06cf75be"
      },
      "source": [
        "# Устанавливаем нужные атрибуты для фильтрации\n",
        "attributes_to_keep = {1, 5, 10}\n",
        "\n",
        "def MAP(record, _):\n",
        "    \"\"\"Оставляем только нужные поля из записи.\"\"\"\n",
        "    filtered = {key: value for key, value in record.items() if key in attributes_to_keep}\n",
        "    sorted_key = tuple(sorted(filtered.items()))  # Сортируем и создаем кортеж для предсказуемости\n",
        "    yield (sorted_key, sorted_key)  # Возвращаем пару (отфильтрованная запись, отфильтрованная запись)\n",
        "\n",
        "def REDUCE(_, grouped_values):\n",
        "    \"\"\"Удаляем дубликаты, оставляя только один экземпляр.\"\"\"\n",
        "    yield grouped_values[0]  # Возвращаем только первый элемент\n",
        "\n",
        "def RECORDREADER():\n",
        "    \"\"\"Генератор, который подает записи данных.\"\"\"\n",
        "    yield ({1: \"apple\", 2: \"banana\", 5: \"grape\"}, None)\n",
        "    yield ({1: \"orange\", 3: \"pear\", 10: \"kiwi\"}, None)\n",
        "    yield ({5: \"melon\", 7: \"cherry\", 10: \"mango\"}, None)\n",
        "\n",
        "# Выполнение MapReduce с использованием ранее определенных функций\n",
        "final_result = list(MapReduce(RECORDREADER, MAP, REDUCE))\n",
        "# Вывод результата\n",
        "print(\"Проекция по атрибутам:\", final_result)"
      ],
      "execution_count": null,
      "outputs": [
        {
          "output_type": "stream",
          "name": "stdout",
          "text": [
            "Проекция по атрибутам: [((1, 'apple'), (5, 'grape')), ((1, 'orange'), (10, 'kiwi')), ((5, 'melon'), (10, 'mango'))]\n"
          ]
        }
      ]
    },
    {
      "cell_type": "markdown",
      "metadata": {
        "id": "7gau6lKXvn2R"
      },
      "source": [
        "### Union (Объединение)\n",
        "\n",
        "**The Map Function:** Превратите каждый входной кортеж $t$ в пару ключ-значение $(t, t)$.\n",
        "\n",
        "**The Reduce Function:** С каждым ключом $t$ будет ассоциировано одно или два значений. В обоих случаях создайте $(t, t)$ в качестве выходного значения."
      ]
    },
    {
      "cell_type": "code",
      "metadata": {
        "id": "Sns7a5agv3nw",
        "colab": {
          "base_uri": "https://localhost:8080/"
        },
        "outputId": "4b9aec51-d554-429a-e80b-b89e9ed526e5"
      },
      "source": [
        "def MAP(record, _):\n",
        "    \"\"\"Каждый элемент данных превращается в пару (record, record).\"\"\"\n",
        "    yield (record, record)\n",
        "\n",
        "def REDUCE(record, grouped_records):\n",
        "    \"\"\"Удаляет повторяющиеся элементы и возвращает только один экземпляр.\"\"\"\n",
        "    yield (record, record)  # Значения уже сгруппированы, возвращаем первый экземпляр\n",
        "\n",
        "def RECORDREADER():\n",
        "    \"\"\"Генератор данных, который объединяет два множества.\"\"\"\n",
        "    set_a = [(1, None), (2, None), (3, None)]\n",
        "    set_b = [(2, None), (4, None), (5, None)]\n",
        "    return set_a + set_b  # Симуляция объединения множества A с множеством B\n",
        "\n",
        "# Запуск MapReduce с использованием заданных функций\n",
        "output = list(MapReduce(RECORDREADER, MAP, REDUCE))\n",
        "\n",
        "# Вывод результата\n",
        "print(\"Объединенный набор данных:\", output)"
      ],
      "execution_count": null,
      "outputs": [
        {
          "output_type": "stream",
          "name": "stdout",
          "text": [
            "Объединенный набор данных: [(1, 1), (2, 2), (3, 3), (4, 4), (5, 5)]\n"
          ]
        }
      ]
    },
    {
      "cell_type": "markdown",
      "metadata": {
        "id": "dQ8TuEbjv4J8"
      },
      "source": [
        "### Intersection (Пересечение)\n",
        "\n",
        "**The Map Function:** Превратите каждый кортеж $t$ в пары ключ-значение $(t, t)$.\n",
        "\n",
        "**The Reduce Function:** Если для ключа $t$ есть список из двух элементов $[t, t]$ $-$ создайте пару $(t, t)$. Иначе, ничего не создавайте."
      ]
    },
    {
      "cell_type": "code",
      "metadata": {
        "id": "XKlBZh4IwERR",
        "colab": {
          "base_uri": "https://localhost:8080/"
        },
        "outputId": "f4260c0a-1db7-408a-cd04-3a3d3a728f60"
      },
      "source": [
        "def MAP(element, _):\n",
        "    \"\"\"Каждый элемент преобразуется в пару (element, element).\"\"\"\n",
        "    yield (element, element)\n",
        "\n",
        "def REDUCE(element, grouped_elements):\n",
        "    \"\"\"Если элемент встречается дважды, добавляем его в итоговый результат.\"\"\"\n",
        "    if len(grouped_elements) == 2:\n",
        "        yield (element, element)\n",
        "\n",
        "def RECORDREADER():\n",
        "    \"\"\"Генератор данных для пересечения двух множеств: {1, 2, 3, 4} и {2, 3, 5, 6}.\"\"\"\n",
        "    set_x = [(1, None), (2, None), (3, None), (4, None)]\n",
        "    set_y = [(2, None), (3, None), (5, None), (6, None)]\n",
        "    return set_x + set_y  # Объединение данных для имитации обработки\n",
        "\n",
        "# Выполнение MapReduce\n",
        "intersection_result = list(MapReduce(RECORDREADER, MAP, REDUCE))\n",
        "\n",
        "# Выводим результат пересечения\n",
        "print(\"Пересечение двух множеств:\", intersection_result)\n"
      ],
      "execution_count": null,
      "outputs": [
        {
          "output_type": "stream",
          "name": "stdout",
          "text": [
            "Пересечение двух множеств: [(2, 2), (3, 3)]\n"
          ]
        }
      ]
    },
    {
      "cell_type": "markdown",
      "metadata": {
        "id": "AVOpqoY3wE5k"
      },
      "source": [
        "### Difference (Разница)\n",
        "\n",
        "**The Map Function:** Для кортежа $t \\in R$, создайте пару $(t, R)$, и для кортежа $t \\in S$, создайте пару $(t, S)$. Задумка заключается в том, чтобы значение пары было именем отношения $R$ or $S$, которому принадлежит кортеж (а лучше, единичный бит, по которому можно два отношения различить $R$ or $S$), а не весь набор атрибутов отношения.\n",
        "\n",
        "**The Reduce Function:** Для каждого ключа $t$, если соответствующее значение является списком $[R]$, создайте пару $(t, t)$. В иных случаях не предпринимайте действий."
      ]
    },
    {
      "cell_type": "code",
      "metadata": {
        "id": "QE_AC09lwZIZ",
        "colab": {
          "base_uri": "https://localhost:8080/"
        },
        "outputId": "cb2c1a2a-df6b-4e0e-de31-08836487e5ca"
      },
      "source": [
        "def MAP(item, source):\n",
        "    \"\"\"Помечаем каждый элемент его источником (R или S).\"\"\"\n",
        "    yield (item, source)\n",
        "\n",
        "def REDUCE(item, sources):\n",
        "    \"\"\"Добавляем элемент в результат, если он присутствует только в R.\"\"\"\n",
        "    if sources == [\"R\"]:  # Это означает, что элемент не был в S\n",
        "        yield (item, item)\n",
        "\n",
        "def RECORDREADER():\n",
        "    \"\"\"Создаем два множества: R и S.\"\"\"\n",
        "    set_r = [(1, \"R\"), (2, \"R\"), (3, \"R\"), (4, \"R\")]  # Множество R\n",
        "    set_s = [(2, \"S\"), (3, \"S\"), (5, \"S\"), (6, \"S\")]  # Множество S\n",
        "    return set_r + set_s  # Объединяем множества для обработки\n",
        "\n",
        "# Запуск MapReduce\n",
        "difference_result = list(MapReduce(RECORDREADER, MAP, REDUCE))\n",
        "\n",
        "# Выводим результат разности R - S\n",
        "print(\"Разность множества R и S:\", difference_result)\n"
      ],
      "execution_count": null,
      "outputs": [
        {
          "output_type": "stream",
          "name": "stdout",
          "text": [
            "Разность множества R и S: [(1, 1), (4, 4)]\n"
          ]
        }
      ]
    },
    {
      "cell_type": "markdown",
      "metadata": {
        "id": "j8I58V2VwhSm"
      },
      "source": [
        "### Natural Join\n",
        "\n",
        "**The Map Function:** Для каждого кортежа $(a, b)$ отношения $R$, создайте пару $(b,(R, a))$. Для каждого кортежа $(b, c)$ отношения $S$, создайте пару $(b,(S, c))$.\n",
        "\n",
        "**The Reduce Function:** Каждый ключ $b$ будет асоциирован со списком пар, которые принимают форму либо $(R, a)$, либо $(S, c)$. Создайте все пары, одни, состоящие из  первого компонента $R$, а другие, из первого компонента $S$, то есть $(R, a)$ и $(S, c)$. На выходе вы получаете последовательность пар ключ-значение из списков ключей и значений. Ключ не нужен. Каждое значение, это тройка $(a, b, c)$ такая, что $(R, a)$ и $(S, c)$ это принадлежат входному списку значений."
      ]
    },
    {
      "cell_type": "code",
      "metadata": {
        "id": "yHiuuTctw86I",
        "colab": {
          "base_uri": "https://localhost:8080/"
        },
        "outputId": "93d53e8f-8a81-4aea-c0f1-57eb42735a0b"
      },
      "source": [
        "def MAP(record, source):\n",
        "    \"\"\"Генерирует пары (b, (источник, значение)) для объединения.\"\"\"\n",
        "    if source == \"R\":\n",
        "        a, b = record\n",
        "        yield (b, (\"R\", a))  # Формируем пару для первого множества\n",
        "    elif source == \"S\":\n",
        "        b, c = record\n",
        "        yield (b, (\"S\", c))  # Формируем пару для второго множества\n",
        "\n",
        "def REDUCE(b, grouped_values):\n",
        "    \"\"\"Создает комбинации (a, b, c) для подходящих соединений.\"\"\"\n",
        "    r_values = [a for src, a in grouped_values if src == \"R\"]\n",
        "    s_values = [c for src, c in grouped_values if src == \"S\"]\n",
        "\n",
        "    for a in r_values:\n",
        "        for c in s_values:\n",
        "            yield (a, b, c)  # Возвращаем комбинированные значения\n",
        "\n",
        "def RECORDREADER():\n",
        "    \"\"\"Генерирует данные для соединения: R(a, b) и S(b, c).\"\"\"\n",
        "    set_r = [(\"X\", 1), (\"Y\", 2), (\"Z\", 3)]  # (a, b)\n",
        "    set_s = [(1, \"apple\"), (2, \"banana\"), (3, \"cherry\")]  # (b, c)\n",
        "    return [(r, \"R\") for r in set_r] + [(s, \"S\") for s in set_s]\n",
        "\n",
        "# Запуск MapReduce\n",
        "join_result = list(MapReduce(RECORDREADER, MAP, REDUCE))\n",
        "\n",
        "# Выводим результат соединения\n",
        "print(\"Результат объединения (Natural Join):\", join_result)\n"
      ],
      "execution_count": null,
      "outputs": [
        {
          "output_type": "stream",
          "name": "stdout",
          "text": [
            "Результат объединения (Natural Join): [('X', 1, 'apple'), ('Y', 2, 'banana'), ('Z', 3, 'cherry')]\n"
          ]
        }
      ]
    },
    {
      "cell_type": "markdown",
      "metadata": {
        "id": "kYdlr0YUxE27"
      },
      "source": [
        "### Grouping and Aggregation (Группировка и аггрегация)\n",
        "\n",
        "**The Map Function:** Для каждого кортежа $(a, b, c$) создайте пару $(a, b)$.\n",
        "\n",
        "**The Reduce Function:** Ключ представляет ту или иную группу. Примение аггрегирующую операцию $\\theta$ к списку значений $[b1, b2, . . . , bn]$ ассоциированных с ключом $a$. Возвращайте в выходной поток $(a, x)$, где $x$ результат применения  $\\theta$ к списку. Например, если $\\theta$ это $SUM$, тогда $x = b1 + b2 + · · · + bn$, а если $\\theta$ is $MAX$, тогда $x$ это максимальное из значений $b1, b2, . . . , bn$."
      ]
    },
    {
      "cell_type": "code",
      "metadata": {
        "id": "MLPckfEGxico",
        "colab": {
          "base_uri": "https://localhost:8080/"
        },
        "outputId": "7e288601-0d99-4952-84b4-d7afe28f80f8"
      },
      "source": [
        "from collections import defaultdict\n",
        "from typing import Callable, List, Tuple\n",
        "\n",
        "def MAP(a, b, c):\n",
        "    \"\"\"Формируем пару (a, b) для последующей агрегации.\"\"\"\n",
        "    yield (a, b)\n",
        "\n",
        "def REDUCE(a, values, aggregate_fn: Callable[[List[int]], int]):\n",
        "    \"\"\"Применяем агрегирующую функцию и возвращаем результат для ключа a.\"\"\"\n",
        "    yield (a, aggregate_fn(values))\n",
        "\n",
        "def RECORDREADER():\n",
        "    \"\"\"Пример данных: (a, b, c).\"\"\"\n",
        "    return [(1, 10, \"x\"), (2, 20, \"y\"), (1, 15, \"z\"), (2, 25, \"w\"), (3, 30, \"v\")]\n",
        "\n",
        "def shuffle_data(mapped_data: List[Tuple[int, int]]) -> dict:\n",
        "    \"\"\"Группируем данные по ключу.\"\"\"\n",
        "    grouped = defaultdict(list)\n",
        "    for key, value in mapped_data:\n",
        "        grouped[key].append(value)\n",
        "    return grouped\n",
        "\n",
        "def MapReduce(input_data_func, map_fn, reduce_fn, aggregate_fn):\n",
        "    \"\"\"Основная логика MapReduce.\"\"\"\n",
        "    records = input_data_func()\n",
        "\n",
        "    # Этап MAP\n",
        "    mapped = []\n",
        "    for record in records:\n",
        "        mapped.extend(map_fn(*record))  # Распаковываем и применяем функцию map\n",
        "\n",
        "    # Этап SHUFFLE\n",
        "    grouped = shuffle_data(mapped)\n",
        "\n",
        "    # Этап REDUCE\n",
        "    reduced = []\n",
        "    for key, values in grouped.items():\n",
        "        reduced.extend(reduce_fn(key, values, aggregate_fn))\n",
        "\n",
        "    return reduced\n",
        "\n",
        "# Пример использования с суммированием\n",
        "print(\"Результат агрегации SUM:\", MapReduce(RECORDREADER, MAP, REDUCE, sum))\n",
        "\n",
        "# Пример использования с нахождением максимума\n",
        "print(\"Результат агрегации MAX:\", MapReduce(RECORDREADER, MAP, REDUCE, max))\n"
      ],
      "execution_count": null,
      "outputs": [
        {
          "output_type": "stream",
          "name": "stdout",
          "text": [
            "Результат агрегации SUM: [(1, 25), (2, 45), (3, 30)]\n",
            "Результат агрегации MAX: [(1, 15), (2, 25), (3, 30)]\n"
          ]
        }
      ]
    },
    {
      "cell_type": "markdown",
      "metadata": {
        "id": "03IffTEOJgOb"
      },
      "source": [
        "#"
      ]
    },
    {
      "cell_type": "markdown",
      "metadata": {
        "id": "IIrRgvG4RIS4"
      },
      "source": [
        "### Matrix-Vector multiplication\n",
        "\n",
        "Случай, когда вектор не помещается в памяти Map задачи\n"
      ]
    },
    {
      "cell_type": "code",
      "metadata": {
        "id": "KQhDbiL3zS9r",
        "colab": {
          "base_uri": "https://localhost:8080/"
        },
        "outputId": "3338bbe1-eeab-438b-991b-8503c1e47a24"
      },
      "source": [
        "from typing import List, Tuple, Dict, NamedTuple\n",
        "from collections import defaultdict\n",
        "\n",
        "NUM_REDUCERS = 2  # Количество редукторов\n",
        "CHUNK_SIZE = 2  # Размер чанка для вектора\n",
        "\n",
        "# Функция отображения для матрицы\n",
        "def map_matrix_row(row: NamedTuple) -> Tuple[int, Tuple[str, NamedTuple]]:\n",
        "    return row.col % NUM_REDUCERS, ('M', row)\n",
        "\n",
        "# Функция отображения для векторных чанков\n",
        "def map_vector_chunk(vector_chunk: List[NamedTuple]) -> List[Tuple[int, Tuple[str, NamedTuple]]]:\n",
        "    return [(el.index % NUM_REDUCERS, ('V', el)) for el in vector_chunk]\n",
        "\n",
        "# Функция редукции (умножение строк матрицы на соответствующие элементы вектора)\n",
        "def reduce_product(reducer_id: int, values: List[Tuple[str, NamedTuple]]) -> List[Tuple[int, float]]:\n",
        "    matrix_rows, vector_elements = [], []\n",
        "    for tag, record in values:\n",
        "        if tag == 'M':\n",
        "            matrix_rows.append(record)\n",
        "        else:\n",
        "            vector_elements.append(record)\n",
        "\n",
        "    return [(row.row, row.value * el.value) for row in matrix_rows for el in vector_elements if row.col == el.index]\n",
        "\n",
        "# Функция группировки данных по редукторам\n",
        "def shuffle_data(mapped_data: List[Tuple[int, Tuple[str, NamedTuple]]]) -> Dict[int, List[Tuple[str, NamedTuple]]]:\n",
        "    grouped = defaultdict(list)\n",
        "    for reducer_id, pair in mapped_data:\n",
        "        grouped[reducer_id].append(pair)\n",
        "    return grouped\n",
        "\n",
        "# Финальная агрегация (складывает результаты умножения)\n",
        "def aggregate_results(partial_results: List[Tuple[int, float]]) -> Dict[int, float]:\n",
        "    result = defaultdict(float)\n",
        "    for row, value in partial_results:\n",
        "        result[row] += value\n",
        "    return result\n",
        "\n",
        "# Чтение данных матрицы\n",
        "def read_matrix_data(matrix: List[NamedTuple]) -> List[Tuple[str, NamedTuple]]:\n",
        "    return [('M', row) for row in matrix]\n",
        "\n",
        "# Разбиение вектора на чанки\n",
        "def split_vector(vector: List[NamedTuple]) -> List[List[NamedTuple]]:\n",
        "    return [vector[i:i + CHUNK_SIZE] for i in range(0, len(vector), CHUNK_SIZE)]\n",
        "\n",
        "# Основная функция MapReduce\n",
        "def map_reduce(matrix, vector):\n",
        "    mapped_matrix = [map_matrix_row(row) for _, row in read_matrix_data(matrix)]\n",
        "    mapped_vector = [pair for chunk in split_vector(vector) for pair in map_vector_chunk(chunk)]\n",
        "    grouped = shuffle_data(mapped_matrix + mapped_vector)\n",
        "    partial_results = [res for rid, vals in grouped.items() for res in reduce_product(rid, vals)]\n",
        "    return aggregate_results(partial_results)\n",
        "\n",
        "from collections import namedtuple\n",
        "MatrixRow = namedtuple('MatrixRow', ['row', 'col', 'value'])\n",
        "VectorElement = namedtuple('VectorElement', ['index', 'value'])\n",
        "\n",
        "# Пример данных для умножения матрицы на вектор\n",
        "matrix = [MatrixRow(0, 0, 1.0), MatrixRow(0, 1, 2.0), MatrixRow(1, 0, 3.0), MatrixRow(1, 1, 4.0)]\n",
        "vector = [VectorElement(0, 0.5), VectorElement(1, 0.7)]\n",
        "\n",
        "# Результат умножения\n",
        "result = map_reduce(matrix, vector)\n",
        "print(\"Результат умножения матрицы на вектор:\", result)\n"
      ],
      "execution_count": null,
      "outputs": [
        {
          "output_type": "stream",
          "name": "stdout",
          "text": [
            "Результат умножения матрицы на вектор: defaultdict(<class 'float'>, {0: 1.9, 1: 4.3})\n"
          ]
        }
      ]
    },
    {
      "cell_type": "markdown",
      "metadata": {
        "id": "GIo2t7nNxvA9"
      },
      "source": [
        "## Matrix multiplication (Перемножение матриц)\n",
        "\n",
        "Если у нас есть матрица $M$ с элементами $m_{ij}$ в строке $i$ и столбце $j$, и матрица $N$ с элементами $n_{jk}$ в строке $j$ и столбце $k$, тогда их произведение $P = MN$ есть матрица $P$ с элементами $p_{ik}$ в строке $i$ и столбце $k$, где\n",
        "\n",
        "$$p_{ik} =\\sum_{j} m_{ij}n_{jk}$$\n",
        "\n",
        "Необходимым требованием является одинаковое количество столбцов в $M$ и строк в $N$, чтобы операция суммирования по  $j$ была осмысленной. Мы можем размышлять о матрице, как об отношении с тремя атрибутами: номер строки, номер столбца, само значение. Таким образом матрица $M$ предстваляется как отношение $ M(I, J, V )$, с кортежами $(i, j, m_{ij})$, и, аналогично, матрица $N$ представляется как отношение $N(J, K, W)$, с кортежами $(j, k, n_{jk})$. Так как большие матрицы как правило разреженные (большинство значений равно 0), и так как мы можем нулевыми значениями пренебречь (не хранить), такое реляционное представление достаточно эффективно для больших матриц. Однако, возможно, что координаты $i$, $j$, и $k$ неявно закодированы в смещение позиции элемента относительно начала файла, вместо явного хранения. Тогда, функция Map (или Reader) должна быть разработана таким образом, чтобы реконструировать компоненты $I$, $J$, и $K$ кортежей из смещения.\n",
        "\n",
        "Произведение $MN$ это фактически join, за которым следуют группировка по ключу и аггрегация. Таким образом join отношений $M(I, J, V )$ и $N(J, K, W)$, имеющих общим только атрибут $J$, создаст кортежи $(i, j, k, v, w)$ из каждого кортежа $(i, j, v) \\in M$ и кортежа $(j, k, w) \\in N$. Такой 5 компонентный кортеж представляет пару элементов матрицы $(m_{ij} , n_{jk})$. Что нам хотелось бы получить на самом деле, это произведение этих элементов, то есть, 4 компонентный кортеж$(i, j, k, v \\times w)$, так как он представляет произведение $m_{ij}n_{jk}$. Мы представляем отношение как результат одной MapReduce операции, в которой мы можем произвести группировку и аггрегацию, с $I$ и $K$  атрибутами, по которым идёт группировка, и суммой  $V \\times W$.\n",
        "\n",
        "\n",
        "\n"
      ]
    },
    {
      "cell_type": "code",
      "metadata": {
        "id": "1MBkGaLAYVCt"
      },
      "source": [
        "# MapReduce model\n",
        "def flatten(nested_iterable):\n",
        "  for iterable in nested_iterable:\n",
        "    for element in iterable:\n",
        "      yield element\n",
        "\n",
        "def groupbykey(iterable):\n",
        "  t = {}\n",
        "  for (k2, v2) in iterable:\n",
        "    t[k2] = t.get(k2, []) + [v2]\n",
        "  return t.items()\n",
        "\n",
        "def MapReduce(RECORDREADER, MAP, REDUCE):\n",
        "  return flatten(map(lambda x: REDUCE(*x), groupbykey(flatten(map(lambda x: MAP(*x), RECORDREADER())))))\n"
      ],
      "execution_count": null,
      "outputs": []
    },
    {
      "cell_type": "markdown",
      "metadata": {
        "id": "sMspsOT0ZB35"
      },
      "source": [
        "Реализуйте перемножение матриц с использованием модельного кода MapReduce для одной машины в случае, когда одна матрица хранится в памяти, а другая генерируется RECORDREADER-ом."
      ]
    },
    {
      "cell_type": "code",
      "metadata": {
        "id": "psP1XekbsEjS",
        "colab": {
          "base_uri": "https://localhost:8080/"
        },
        "outputId": "ca27eb23-4301-45b0-e7f9-c210d9b1c638"
      },
      "source": [
        "import numpy as np\n",
        "\n",
        "I = 2\n",
        "J = 3\n",
        "K = 4 * 10\n",
        "small_mat = np.random.rand(I, J)  # Маленькая матрица в памяти\n",
        "big_mat = np.random.rand(J, K)  # Большая матрица читается через RECORDREADER\n",
        "\n",
        "def RECORDREADER():\n",
        "    for j in range(big_mat.shape[0]):\n",
        "        for k in range(big_mat.shape[1]):\n",
        "            yield ((j, k), big_mat[j, k])  # (j,k) - ключ, n_{jk} - значение\n",
        "\n",
        "def MAP(k1, v1):\n",
        "    (j, k) = k1  # Из ключа (j, k) извлекаем индексы\n",
        "    w = v1  # n_{jk}\n",
        "\n",
        "    for i in range(small_mat.shape[0]):  # Пробегаем все строки маленькой матрицы\n",
        "        v = small_mat[i, j]  # m_{ij}\n",
        "        yield ((i, k), v * w)  # (i,k) - ключ, произведение - значение\n",
        "\n",
        "def REDUCE(key, values):\n",
        "    (i, k) = key\n",
        "    yield ((i, k), sum(values))  # Суммируем все произведения\n",
        "\n",
        "result = list(MapReduce(RECORDREADER, MAP, REDUCE))\n",
        "print(result)"
      ],
      "execution_count": null,
      "outputs": [
        {
          "output_type": "stream",
          "name": "stdout",
          "text": [
            "[((0, 0), 0.6154680954357201), ((1, 0), 0.5107440329096617), ((0, 1), 0.7185411052105499), ((1, 1), 0.2838657794350603), ((0, 2), 0.39308123836199116), ((1, 2), 0.2892228922294574), ((0, 3), 0.7663289084274129), ((1, 3), 0.37170007069229666), ((0, 4), 1.0944256380419226), ((1, 4), 0.8698152368129288), ((0, 5), 1.0097957429441613), ((1, 5), 0.9276441919666509), ((0, 6), 0.3886206808503247), ((1, 6), 0.27371446116746506), ((0, 7), 0.2938393037475123), ((1, 7), 0.08897036708877551), ((0, 8), 1.300118844398048), ((1, 8), 0.7660877849332246), ((0, 9), 0.6551235003463405), ((1, 9), 0.3039804819205024), ((0, 10), 0.1722708778165729), ((1, 10), 0.13078894018829135), ((0, 11), 0.16899151972796317), ((1, 11), 0.0394414268455692), ((0, 12), 0.8777564160074899), ((1, 12), 0.7080278578718691), ((0, 13), 0.5916349463046825), ((1, 13), 0.3416750275546511), ((0, 14), 0.44334138421948777), ((1, 14), 0.2994059163376266), ((0, 15), 0.4920429245471688), ((1, 15), 0.2269963803955291), ((0, 16), 0.5355786270935605), ((1, 16), 0.6192930889897643), ((0, 17), 0.986647200246721), ((1, 17), 0.7492161385704039), ((0, 18), 1.0751297142328013), ((1, 18), 0.9377090143298815), ((0, 19), 0.757436887908427), ((1, 19), 0.6180540272429034), ((0, 20), 0.4747304410053591), ((1, 20), 0.6259456349895685), ((0, 21), 0.7486893257868523), ((1, 21), 0.4850608073627467), ((0, 22), 1.104750485457108), ((1, 22), 0.9177287441463879), ((0, 23), 1.1423765398596966), ((1, 23), 0.7269791634801781), ((0, 24), 0.36512913233474814), ((1, 24), 0.5170003863687809), ((0, 25), 0.9289633332010061), ((1, 25), 0.36425859499716917), ((0, 26), 1.2152244613583445), ((1, 26), 0.8497750679020296), ((0, 27), 0.5637324960498851), ((1, 27), 0.5585411915264871), ((0, 28), 0.8265838272589129), ((1, 28), 0.8441938662560535), ((0, 29), 0.343640242640645), ((1, 29), 0.40718891891475745), ((0, 30), 0.6979962298878977), ((1, 30), 0.3627343347912143), ((0, 31), 0.9185104374630682), ((1, 31), 0.5767492481630943), ((0, 32), 0.8026441399092457), ((1, 32), 0.6591360377935632), ((0, 33), 0.35026213161132513), ((1, 33), 0.2209791988975828), ((0, 34), 0.750990010085589), ((1, 34), 0.5920547746489903), ((0, 35), 0.6570386220936965), ((1, 35), 0.5002382707698967), ((0, 36), 0.5958954908102787), ((1, 36), 0.35093282228699424), ((0, 37), 0.480052386927476), ((1, 37), 0.30260196129475725), ((0, 38), 0.6339432895531478), ((1, 38), 0.7596384170678375), ((0, 39), 0.6295789406744583), ((1, 39), 0.5130923537594123)]\n"
          ]
        }
      ]
    },
    {
      "cell_type": "markdown",
      "metadata": {
        "id": "rnt306LHhHrm"
      },
      "source": [
        "Проверьте своё решение"
      ]
    },
    {
      "cell_type": "code",
      "metadata": {
        "id": "Ewy_ZNYqW5a2",
        "colab": {
          "base_uri": "https://localhost:8080/"
        },
        "outputId": "7a3cfb87-aceb-49c6-c735-2d0dae7bfe6b"
      },
      "source": [
        "# CHECK THE SOLUTION\n",
        "reference_solution = np.matmul(small_mat, big_mat)\n",
        "solution = MapReduce(RECORDREADER, MAP, REDUCE)\n",
        "\n",
        "def asmatrix(reduce_output):\n",
        "  reduce_output = list(reduce_output)\n",
        "  I = max(i for ((i,k), vw) in reduce_output)+1\n",
        "  K = max(k for ((i,k), vw) in reduce_output)+1\n",
        "  mat = np.empty(shape=(I,K))\n",
        "  for ((i,k), vw) in reduce_output:\n",
        "    mat[i,k] = vw\n",
        "  return mat\n",
        "\n",
        "np.allclose(reference_solution, asmatrix(solution)) # should return true\n"
      ],
      "execution_count": null,
      "outputs": [
        {
          "output_type": "execute_result",
          "data": {
            "text/plain": [
              "True"
            ]
          },
          "metadata": {},
          "execution_count": 32
        }
      ]
    },
    {
      "cell_type": "code",
      "metadata": {
        "id": "TK7v4CEcfxqf",
        "colab": {
          "base_uri": "https://localhost:8080/"
        },
        "outputId": "f666c837-da2f-49fd-bfea-ffd5795750f0"
      },
      "source": [
        "reduce_output = list(MapReduce(RECORDREADER, MAP, REDUCE))\n",
        "max(i for ((i,k), vw) in reduce_output)"
      ],
      "execution_count": null,
      "outputs": [
        {
          "output_type": "execute_result",
          "data": {
            "text/plain": [
              "1"
            ]
          },
          "metadata": {},
          "execution_count": 33
        }
      ]
    },
    {
      "cell_type": "markdown",
      "metadata": {
        "id": "i4yyg3kOZqJJ"
      },
      "source": [
        "Реализуйте перемножение матриц  с использованием модельного кода MapReduce для одной машины в случае, когда обе матрицы генерируются в RECORDREADER. Например, сначала одна, а потом другая."
      ]
    },
    {
      "cell_type": "code",
      "metadata": {
        "id": "3B7rIAJCaHZq",
        "colab": {
          "base_uri": "https://localhost:8080/"
        },
        "outputId": "65d44f5d-7158-4f70-e61c-a013397ce23f"
      },
      "source": [
        "import numpy as np  # Импорт библиотеки NumPy для работы с матрицами\n",
        "\n",
        "# Размерности матриц\n",
        "I = 2\n",
        "J = 3\n",
        "K = 40\n",
        "\n",
        "# Генерация случайных матриц\n",
        "np.random.seed(42)  # Фиксируем seed для воспроизводимости результатов\n",
        "small_mat = np.random.rand(I, J)  # Матрица M размером (I x J)\n",
        "big_mat = np.random.rand(J, K)  # Матрица N размером (J x K)\n",
        "\n",
        "# Эталонное решение с использованием стандартного перемножения матриц\n",
        "reference_solution = np.matmul(small_mat, big_mat)\n",
        "\n",
        "# Функция, читающая данные обеих матриц\n",
        "def RECORDREADER():\n",
        "    # Чтение первой матрицы (M)\n",
        "    for i in range(small_mat.shape[0]):\n",
        "        for j in range(small_mat.shape[1]):\n",
        "            yield ((0, i, j), small_mat[i, j])  # Формат (0, i, j, M[i, j])\n",
        "\n",
        "    # Чтение второй матрицы (N)\n",
        "    for j in range(big_mat.shape[0]):\n",
        "        for k in range(big_mat.shape[1]):\n",
        "            yield ((1, j, k), big_mat[j, k])  # Формат (1, j, k, N[j, k])\n",
        "\n",
        "# Функция MAP для соединения матриц по индексу j\n",
        "def MAP_JOIN(k1, v1):\n",
        "    mat_type, i_or_j, j_or_k = k1  # Извлекаем номер матрицы и индексы\n",
        "    value = v1\n",
        "\n",
        "    if mat_type == 0:  # Если это элемент первой матрицы (M)\n",
        "        yield (j_or_k, (0, i_or_j, value))  # Группируем по j\n",
        "    else:  # Если это элемент второй матрицы (N)\n",
        "        yield (i_or_j, (1, j_or_k, value))  # Группируем по j\n",
        "\n",
        "# Функция REDUCE для соединения матриц по j\n",
        "def REDUCE_JOIN(key, values):\n",
        "    first_matrix = [v for v in values if v[0] == 0]  # Элементы первой матрицы (M)\n",
        "    second_matrix = [v for v in values if v[0] == 1]  # Элементы второй матрицы (N)\n",
        "\n",
        "    for m in first_matrix:\n",
        "        for n in second_matrix:\n",
        "            yield ((m[1], n[1]), m[2] * n[2])  # Умножение значений mij * njk\n",
        "\n",
        "# Функция MAP для финальной агрегации (суммирование произведений)\n",
        "def MAP_MUL(k1, v1):\n",
        "    yield (k1, v1)  # Оставляем ключ (i, k) без изменений\n",
        "\n",
        "# Функция REDUCE для суммирования произведений элементов\n",
        "def REDUCE_MUL(key, values):\n",
        "    yield (key, sum(values))  # Складываем все элементы для ключа (i, k)\n",
        "\n",
        "# Генерация объединённых значений через MapReduce\n",
        "joined = MapReduce(RECORDREADER, MAP_JOIN, REDUCE_JOIN)\n",
        "\n",
        "# Выполнение финального этапа MapReduce для получения результата\n",
        "solution = MapReduce(lambda: joined, MAP_MUL, REDUCE_MUL)\n",
        "\n",
        "# Проверка, совпадает ли результат с эталонным значением\n",
        "print(np.allclose(reference_solution, asmatrix(solution)))  # Должно вывести True"
      ],
      "execution_count": null,
      "outputs": [
        {
          "output_type": "stream",
          "name": "stdout",
          "text": [
            "True\n"
          ]
        }
      ]
    },
    {
      "cell_type": "markdown",
      "metadata": {
        "id": "mXyzQi1DaIwo"
      },
      "source": [
        "Реализуйте перемножение матриц с использованием модельного кода MapReduce Distributed, когда каждая матрица генерируется в своём RECORDREADER."
      ]
    },
    {
      "cell_type": "code",
      "metadata": {
        "id": "TDM_s78Rb5eR",
        "colab": {
          "base_uri": "https://localhost:8080/"
        },
        "outputId": "f82283e2-f808-495c-9195-bd55686e67aa"
      },
      "source": [
        "import numpy as np\n",
        "\n",
        "NUM_MAPPERS = 2\n",
        "reducers = 2\n",
        "ROWS_A = 2\n",
        "COLS_A = 3\n",
        "COLS_B = 40  # K = 4 * 10\n",
        "\n",
        "# Генерация данных\n",
        "A = np.random.rand(ROWS_A, COLS_A)\n",
        "B = np.random.rand(COLS_A, COLS_B)\n",
        "\n",
        "def generate_chunks():\n",
        "    \"\"\"Создаёт части матриц для обработки в MAP.\"\"\"\n",
        "    chunk_size = int(np.ceil(ROWS_A / NUM_MAPPERS))\n",
        "    for i_start in range(0, ROWS_A, chunk_size):\n",
        "        yield process_chunk(range(i_start, min(i_start + chunk_size, ROWS_A)))\n",
        "\n",
        "def process_chunk(rows):\n",
        "    \"\"\"Генерирует пары (координаты, значение) из двух матриц.\"\"\"\n",
        "    for i in rows:\n",
        "        for j in range(COLS_A):\n",
        "            for k in range(COLS_B):\n",
        "                yield ((i, j), A[i, j]), ((j, k), B[j, k])\n",
        "\n",
        "def map_function(pair_A, pair_B):\n",
        "    \"\"\"Умножает элементы и группирует по (i, k).\"\"\"\n",
        "    (i, j), val_A = pair_A\n",
        "    (j, k), val_B = pair_B\n",
        "    yield (i, k), val_A * val_B\n",
        "\n",
        "def reduce_function(index, values):\n",
        "    \"\"\"Суммирует элементы с одинаковыми индексами.\"\"\"\n",
        "    yield index, sum(values)\n",
        "\n",
        "# Запуск MapReduce\n",
        "intermediate_results = MapReduceDistributed(generate_chunks, map_function, reduce_function)\n",
        "\n",
        "# Объединение результатов\n",
        "final_result = {}\n",
        "for partition_id, partition in intermediate_results:\n",
        "    for index, value in partition:\n",
        "        final_result[index] = final_result.get(index, 0) + value\n",
        "\n",
        "\n",
        "print(\"Matrix Multiplication Result:\\n\", final_result)\n"
      ],
      "execution_count": null,
      "outputs": [
        {
          "output_type": "stream",
          "name": "stdout",
          "text": [
            "240 key-value pairs were sent over a network.\n",
            "Matrix Multiplication Result:\n",
            " {(0, 1): 0.47268518561234973, (0, 2): 1.331585175830705, (0, 4): 1.021351852495352, (0, 5): 0.9131445349756118, (0, 8): 1.0854341486196752, (0, 9): 0.3075827214969634, (0, 11): 1.003832121786526, (0, 12): 0.45686569948009204, (0, 15): 0.8918100486065025, (0, 16): 0.5041984539756577, (0, 18): 0.8286369376706371, (0, 19): 0.9717206052489281, (0, 22): 1.099447290027778, (0, 23): 0.5036027285086736, (0, 25): 1.395355376421955, (0, 26): 0.9624208429352515, (0, 29): 0.5962891831345462, (0, 32): 0.5959378597563265, (0, 33): 0.6976597508277623, (0, 36): 0.04441053975372091, (0, 39): 0.6117816957363831, (1, 0): 0.4197798780682388, (1, 1): 0.31678983211806466, (1, 3): 0.2905523671212979, (1, 4): 0.6256497395186525, (1, 7): 0.7423569849982339, (1, 10): 0.6607515214848413, (1, 11): 0.6015564366326857, (1, 14): 0.8685641215901408, (1, 17): 0.38345055566397046, (1, 18): 0.6792902693535021, (1, 21): 0.6236422180184992, (1, 24): 0.7086750406252602, (1, 25): 0.7688596237247428, (1, 27): 0.736800834888107, (1, 28): 0.664718513453437, (1, 31): 0.7309270183375837, (1, 32): 0.3026784538912303, (1, 34): 0.30129593506476826, (1, 35): 0.5869183504406636, (1, 38): 0.640511090327881, (1, 39): 0.3828100707402756, (0, 0): 0.5433583169304825, (0, 3): 0.4161166755448973, (0, 6): 1.108242866343397, (0, 7): 0.9192044873893017, (0, 10): 1.2033199367606149, (0, 13): 0.5999387683377239, (0, 14): 1.2088052633893558, (0, 17): 0.44049434373748003, (0, 20): 0.8975542155036819, (0, 21): 0.9487334190041795, (0, 24): 1.1766210234848822, (0, 27): 1.2681857559657606, (0, 28): 0.8600064973225919, (0, 30): 0.6637156920657984, (0, 31): 1.2142580651603863, (0, 34): 0.3527192821259462, (0, 35): 0.7303914708215375, (0, 37): 0.6277017935750313, (0, 38): 1.0286166545562356, (1, 2): 0.9090713770128865, (1, 5): 0.6862941972949815, (1, 6): 0.7210127836478518, (1, 8): 0.7799931671430935, (1, 9): 0.30218800431997034, (1, 12): 0.31205270496400545, (1, 13): 0.3485165170474275, (1, 15): 0.5757989578219744, (1, 16): 0.4455051197792513, (1, 19): 0.6085029432376949, (1, 20): 0.5779839282381534, (1, 22): 0.6882980684298883, (1, 23): 0.4298552533380888, (1, 26): 0.635016807180898, (1, 29): 0.5699444321567285, (1, 30): 0.5942377211512558, (1, 33): 0.636654250355516, (1, 36): 0.23696607758923507, (1, 37): 0.5583800893667771}\n"
          ]
        }
      ]
    },
    {
      "cell_type": "markdown",
      "metadata": {
        "id": "ZuSA2P9Db6UM"
      },
      "source": [
        "Обобщите предыдущее решение на случай, когда каждая матрица генерируется несколькими RECORDREADER-ами, и проверьте его работоспособность. Будет ли работать решение, если RECORDREADER-ы будут генерировать случайное подмножество элементов матрицы?"
      ]
    },
    {
      "cell_type": "code",
      "metadata": {
        "id": "ehN0FqRDcwU5",
        "colab": {
          "base_uri": "https://localhost:8080/"
        },
        "outputId": "853dce3a-41f0-4d7c-fb55-b631d4bc80fe"
      },
      "source": [
        "import numpy as np\n",
        "\n",
        "# Определение размеров матриц\n",
        "rows_a = 2\n",
        "cols_a = 3\n",
        "cols_b = 4 * 10\n",
        "\n",
        "# Генерация случайных матриц\n",
        "matrix_a = np.random.rand(rows_a, cols_a)\n",
        "matrix_b = np.random.rand(cols_a, cols_b)\n",
        "\n",
        "# Получение эталонного результата через умножение матриц\n",
        "expected_result = np.matmul(matrix_a, matrix_b)\n",
        "\n",
        "# Функция для \"разглаживания\" вложенных итерируемых объектов\n",
        "def flatten_iterables(nested_iterable):\n",
        "    for iterable in nested_iterable:\n",
        "        for element in iterable:\n",
        "            yield element\n",
        "\n",
        "# Функция для группировки элементов по ключу\n",
        "def group_elements_by_key(iterable):\n",
        "    grouped = {}\n",
        "    for (key, value) in iterable:\n",
        "        grouped[key] = grouped.get(key, []) + [value]\n",
        "    return grouped.items()\n",
        "\n",
        "# Функция для распределенной группировки элементов по ключу\n",
        "def distributed_grouping(map_partitions, partition_func):\n",
        "    global num_reducers\n",
        "    partitions = [dict() for _ in range(num_reducers)]\n",
        "    for map_partition in map_partitions:\n",
        "        for (key, value) in map_partition:\n",
        "            partition = partitions[partition_func(key)]\n",
        "            partition[key] = partition.get(key, []) + [value]\n",
        "    return [(partition_id, sorted(partition.items(), key=lambda x: x[0])) for (partition_id, partition) in enumerate(partitions)]\n",
        "\n",
        "# Функция для определения разделителя (по ключу)\n",
        "def partition_function(obj):\n",
        "    global num_reducers\n",
        "    return hash(obj) % num_reducers\n",
        "\n",
        "# Функция для выполнения MapReduce на распределенных данных\n",
        "def distributed_map_reduce(input_format, map_func, reduce_func, partition_func=partition_function, combiner=None):\n",
        "    map_partitions = map(lambda record_reader: flatten_iterables(map(lambda kv: map_func(*kv), record_reader)), input_format())\n",
        "\n",
        "    if combiner is not None:\n",
        "        map_partitions = map(lambda map_partition: flatten_iterables(map(lambda kv: combiner(*kv), group_elements_by_key(map_partition))), map_partitions)\n",
        "\n",
        "    reduce_partitions = distributed_grouping(map_partitions, partition_func)\n",
        "\n",
        "    reduce_outputs = map(lambda reduce_partition: (reduce_partition[0], flatten_iterables(map(lambda reduce_input_group: reduce_func(*reduce_input_group), reduce_partition[1]))), reduce_partitions)\n",
        "\n",
        "    return reduce_outputs\n",
        "\n",
        "# Функция для преобразования результата REDUCE в матрицу\n",
        "def convert_to_matrix(reduce_output):\n",
        "    reduce_output = list(reduce_output)\n",
        "    rows = max(i for ((i, k), value) in reduce_output) + 1\n",
        "    cols = max(k for ((i, k), value) in reduce_output) + 1\n",
        "    result_matrix = np.empty(shape=(rows, cols))\n",
        "    for ((i, k), value) in reduce_output:\n",
        "        result_matrix[i, k] = value\n",
        "    return result_matrix\n",
        "\n",
        "# Генератор для вводных данных\n",
        "def input_data_format():\n",
        "    data_a = []\n",
        "\n",
        "    for i in range(matrix_a.shape[0]):\n",
        "        for j in range(matrix_a.shape[1]):\n",
        "            data_a.append(((0, i, j), matrix_a[i, j]))  # первая матрица\n",
        "\n",
        "    global num_maps\n",
        "    split_size = int(np.ceil(len(data_a) / num_maps))\n",
        "\n",
        "    for i in range(0, len(data_a), split_size):\n",
        "        yield data_a[i:i + split_size]\n",
        "\n",
        "    data_b = []\n",
        "\n",
        "    for j in range(matrix_b.shape[0]):\n",
        "        for k in range(matrix_b.shape[1]):\n",
        "            data_b.append(((1, j, k), matrix_b[j, k]))  # вторая матрица\n",
        "\n",
        "    split_size = int(np.ceil(len(data_b) / num_maps))\n",
        "\n",
        "    for i in range(0, len(data_b), split_size):\n",
        "        yield data_b[i:i + split_size]\n",
        "\n",
        "# MAP функция для соединения матриц\n",
        "def map_join_func(key1, value1):\n",
        "    (matrix_id, i, j) = key1\n",
        "    weight = value1\n",
        "\n",
        "    if matrix_id == 0:\n",
        "        yield (j, (matrix_id, i, weight))\n",
        "    else:\n",
        "        yield (i, (matrix_id, j, weight))\n",
        "\n",
        "# REDUCE функция для соединения матриц\n",
        "def reduce_join_func(key, values):\n",
        "    from_first_matrix = [v for v in values if v[0] == 0]\n",
        "    from_second_matrix = [v for v in values if v[0] == 1]\n",
        "\n",
        "    for f in from_first_matrix:\n",
        "        for s in from_second_matrix:\n",
        "            yield ((f[1], s[1]), f[2] * s[2])\n",
        "\n",
        "# Генератор для получения соединенных данных\n",
        "def generate_joined_data():\n",
        "    for j in joined_data:\n",
        "        yield j[1]\n",
        "\n",
        "# MAP функция для передачи значений\n",
        "def map_multiplication(key1, value1):\n",
        "    yield (key1, value1)\n",
        "\n",
        "# REDUCE функция для суммирования значений\n",
        "def reduce_multiplication(key, values):\n",
        "    total_value = 0\n",
        "\n",
        "    for v in values:\n",
        "        total_value += v\n",
        "    yield (key, total_value)\n",
        "\n",
        "num_maps = 3\n",
        "num_reducers = 2\n",
        "\n",
        "# Выполнение MapReduce для соединения матриц\n",
        "partitioned_result = distributed_map_reduce(input_data_format, map_join_func, reduce_join_func, combiner=None)\n",
        "joined_data = [(partition_id, list(partition)) for (partition_id, partition) in partitioned_result]\n",
        "\n",
        "# Выполнение MapReduce для умножения значений\n",
        "multiplication_output = distributed_map_reduce(generate_joined_data, map_multiplication, reduce_multiplication, combiner=None)\n",
        "pre_result = [(partition_id, list(partition)) for (partition_id, partition) in multiplication_output]\n",
        "\n",
        "# Формирование окончательного результата\n",
        "final_solution = []\n",
        "\n",
        "for p in pre_result:\n",
        "    for v in p[1]:\n",
        "        final_solution.append(v)\n",
        "\n",
        "# Проверка на соответствие с эталонным решением\n",
        "is_close = np.allclose(expected_result, convert_to_matrix(final_solution))\n",
        "\n",
        "# Вывод части матрицы\n",
        "result_matrix = convert_to_matrix(final_solution)\n",
        "print(\"Результат умножения матриц (части первой и последней строки):\")\n",
        "print(result_matrix[0])  # Первая строка\n",
        "print(result_matrix[-1])  # Последняя строка\n",
        "print(\"Сравнение с эталонным решением:\", is_close)\n"
      ],
      "execution_count": null,
      "outputs": [
        {
          "output_type": "stream",
          "name": "stdout",
          "text": [
            "Результат умножения матриц (части первой и последней строки):\n",
            "[0.76297669 0.12634115 0.6231596  1.09131914 0.31992627 0.71671965\n",
            " 1.04442238 1.04414646 0.86452637 0.70794068 0.62148223 0.4417982\n",
            " 0.91327461 0.85955059 0.85767505 1.10999319 0.71212365 0.75631386\n",
            " 0.81355796 0.70741363 0.8064103  0.8541745  0.99737019 0.62318393\n",
            " 0.60657404 0.26118678 0.95438471 0.32988915 0.73488937 0.80918288\n",
            " 0.41005144 0.59314749 0.1558566  0.27505499 0.72071451 0.45912213\n",
            " 0.13479107 0.5114723  1.06968427 0.41064228]\n",
            "[1.23057179 0.20210192 0.73299819 1.37824387 0.70467077 1.18731333\n",
            " 1.44562747 1.7546595  1.31348039 0.72501421 1.20532402 0.85263036\n",
            " 1.21179633 1.12066193 0.96498958 1.52308862 1.11644083 1.37792744\n",
            " 0.84578768 0.9318483  1.19173359 1.07791162 1.2798951  1.30491628\n",
            " 1.14612965 0.69415626 1.87117636 0.97953737 1.44722403 1.50496154\n",
            " 0.6886336  0.60916879 0.42037259 0.74293971 0.53723468 0.78460963\n",
            " 0.16336247 0.55093071 1.81763528 0.79510005]\n",
            "Сравнение с эталонным решением: True\n"
          ]
        }
      ]
    }
  ]
}